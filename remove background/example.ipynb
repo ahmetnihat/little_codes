{
 "cells": [
  {
   "cell_type": "code",
   "execution_count": 8,
   "id": "13d47aab",
   "metadata": {},
   "outputs": [],
   "source": [
    "from rembg import remove\n",
    "from PIL import Image"
   ]
  },
  {
   "cell_type": "code",
   "execution_count": 5,
   "id": "c453c004",
   "metadata": {},
   "outputs": [
    {
     "name": "stdout",
     "output_type": "stream",
     "text": [
      "Collecting rembg\n",
      "  Using cached rembg-2.0.32-py3-none-any.whl (14 kB)\n",
      "Collecting imagehash>=4.3.1\n",
      "  Using cached ImageHash-4.3.1-py2.py3-none-any.whl (296 kB)\n",
      "Requirement already satisfied: scikit-image>=0.19.3 in d:\\programlar\\anaconda3\\envs\\pythonproject\\lib\\site-packages (from rembg) (0.19.3)\n",
      "Collecting python-multipart>=0.0.5\n",
      "  Using cached python_multipart-0.0.6-py3-none-any.whl (45 kB)\n",
      "Collecting fastapi>=0.92.0\n",
      "  Using cached fastapi-0.95.1-py3-none-any.whl (56 kB)\n",
      "Requirement already satisfied: scipy>=1.9.3 in d:\\programlar\\anaconda3\\envs\\pythonproject\\lib\\site-packages (from rembg) (1.10.0)\n",
      "Collecting pooch>=1.6.0\n",
      "  Using cached pooch-1.7.0-py3-none-any.whl (60 kB)\n",
      "Collecting aiohttp>=3.8.1\n",
      "  Using cached aiohttp-3.8.4-cp38-cp38-win_amd64.whl (324 kB)\n",
      "Collecting asyncer>=0.0.2\n",
      "  Using cached asyncer-0.0.2-py3-none-any.whl (8.3 kB)\n",
      "Collecting opencv-python-headless>=4.6.0.66\n",
      "  Using cached opencv_python_headless-4.7.0.72-cp37-abi3-win_amd64.whl (38.1 MB)\n",
      "Requirement already satisfied: onnxruntime>=1.13.1 in c:\\users\\ahmet\\appdata\\roaming\\python\\python38\\site-packages (from rembg) (1.14.1)\n",
      "Requirement already satisfied: numpy>=1.23.5 in d:\\programlar\\anaconda3\\envs\\pythonproject\\lib\\site-packages (from rembg) (1.23.5)\n",
      "Collecting pymatting>=1.1.8\n",
      "  Using cached PyMatting-1.1.8-py3-none-any.whl (47 kB)\n",
      "Requirement already satisfied: pillow>=9.3.0 in d:\\programlar\\anaconda3\\envs\\pythonproject\\lib\\site-packages (from rembg) (9.4.0)\n",
      "Collecting click>=8.1.3\n",
      "  Using cached click-8.1.3-py3-none-any.whl (96 kB)\n",
      "Requirement already satisfied: tqdm>=4.64.1 in d:\\programlar\\anaconda3\\envs\\pythonproject\\lib\\site-packages (from rembg) (4.64.1)\n",
      "Collecting uvicorn>=0.20.0\n",
      "  Using cached uvicorn-0.21.1-py3-none-any.whl (57 kB)\n",
      "Collecting filetype>=1.2.0\n",
      "  Using cached filetype-1.2.0-py2.py3-none-any.whl (19 kB)\n",
      "Collecting watchdog>=2.1.9\n",
      "  Using cached watchdog-3.0.0-py3-none-win_amd64.whl (82 kB)\n",
      "Collecting async-timeout<5.0,>=4.0.0a3\n",
      "  Using cached async_timeout-4.0.2-py3-none-any.whl (5.8 kB)\n",
      "Collecting frozenlist>=1.1.1\n",
      "  Using cached frozenlist-1.3.3-cp38-cp38-win_amd64.whl (34 kB)\n",
      "Collecting multidict<7.0,>=4.5\n",
      "  Using cached multidict-6.0.4-cp38-cp38-win_amd64.whl (28 kB)\n",
      "Requirement already satisfied: charset-normalizer<4.0,>=2.0 in d:\\programlar\\anaconda3\\envs\\pythonproject\\lib\\site-packages (from aiohttp>=3.8.1->rembg) (3.0.1)\n",
      "Collecting yarl<2.0,>=1.0\n",
      "  Using cached yarl-1.8.2-cp38-cp38-win_amd64.whl (56 kB)\n",
      "Collecting aiosignal>=1.1.2\n",
      "  Using cached aiosignal-1.3.1-py3-none-any.whl (7.6 kB)\n",
      "Requirement already satisfied: attrs>=17.3.0 in d:\\programlar\\anaconda3\\envs\\pythonproject\\lib\\site-packages (from aiohttp>=3.8.1->rembg) (22.1.0)\n",
      "Requirement already satisfied: anyio<4.0.0,>=3.4.0 in d:\\programlar\\anaconda3\\envs\\pythonproject\\lib\\site-packages (from asyncer>=0.0.2->rembg) (3.5.0)\n",
      "Requirement already satisfied: sniffio>=1.1 in d:\\programlar\\anaconda3\\envs\\pythonproject\\lib\\site-packages (from anyio<4.0.0,>=3.4.0->asyncer>=0.0.2->rembg) (1.2.0)\n",
      "Requirement already satisfied: idna>=2.8 in d:\\programlar\\anaconda3\\envs\\pythonproject\\lib\\site-packages (from anyio<4.0.0,>=3.4.0->asyncer>=0.0.2->rembg) (3.4)\n",
      "Requirement already satisfied: colorama in d:\\programlar\\anaconda3\\envs\\pythonproject\\lib\\site-packages (from click>=8.1.3->rembg) (0.4.6)\n",
      "Collecting starlette<0.27.0,>=0.26.1\n",
      "  Using cached starlette-0.26.1-py3-none-any.whl (66 kB)\n",
      "Collecting pydantic!=1.7,!=1.7.1,!=1.7.2,!=1.7.3,!=1.8,!=1.8.1,<2.0.0,>=1.6.2\n",
      "  Using cached pydantic-1.10.7-cp38-cp38-win_amd64.whl (2.2 MB)\n",
      "Requirement already satisfied: PyWavelets in d:\\programlar\\anaconda3\\envs\\pythonproject\\lib\\site-packages (from imagehash>=4.3.1->rembg) (1.4.1)\n",
      "Requirement already satisfied: coloredlogs in c:\\users\\ahmet\\appdata\\roaming\\python\\python38\\site-packages (from onnxruntime>=1.13.1->rembg) (15.0.1)\n",
      "Requirement already satisfied: sympy in c:\\users\\ahmet\\appdata\\roaming\\python\\python38\\site-packages (from onnxruntime>=1.13.1->rembg) (1.11.1)\n",
      "Requirement already satisfied: packaging in d:\\programlar\\anaconda3\\envs\\pythonproject\\lib\\site-packages (from onnxruntime>=1.13.1->rembg) (23.0)\n",
      "Requirement already satisfied: protobuf in d:\\programlar\\anaconda3\\envs\\pythonproject\\lib\\site-packages (from onnxruntime>=1.13.1->rembg) (3.20.3)\n",
      "Requirement already satisfied: flatbuffers in d:\\programlar\\anaconda3\\envs\\pythonproject\\lib\\site-packages (from onnxruntime>=1.13.1->rembg) (23.1.4)\n",
      "Requirement already satisfied: platformdirs>=2.5.0 in d:\\programlar\\anaconda3\\envs\\pythonproject\\lib\\site-packages (from pooch>=1.6.0->rembg) (2.5.2)\n",
      "Requirement already satisfied: requests>=2.19.0 in d:\\programlar\\anaconda3\\envs\\pythonproject\\lib\\site-packages (from pooch>=1.6.0->rembg) (2.28.2)\n",
      "Requirement already satisfied: typing-extensions>=4.2.0 in d:\\programlar\\anaconda3\\envs\\pythonproject\\lib\\site-packages (from pydantic!=1.7,!=1.7.1,!=1.7.2,!=1.7.3,!=1.8,!=1.8.1,<2.0.0,>=1.6.2->fastapi>=0.92.0->rembg) (4.4.0)\n",
      "Collecting numba!=0.49.0\n",
      "  Using cached numba-0.56.4-cp38-cp38-win_amd64.whl (2.5 MB)\n",
      "Requirement already satisfied: setuptools in d:\\programlar\\anaconda3\\envs\\pythonproject\\lib\\site-packages (from numba!=0.49.0->pymatting>=1.1.8->rembg) (67.4.0)\n",
      "Collecting llvmlite<0.40,>=0.39.0dev0\n",
      "  Using cached llvmlite-0.39.1-cp38-cp38-win_amd64.whl (23.2 MB)\n",
      "Requirement already satisfied: importlib-metadata in d:\\programlar\\anaconda3\\envs\\pythonproject\\lib\\site-packages (from numba!=0.49.0->pymatting>=1.1.8->rembg) (6.0.0)\n",
      "Requirement already satisfied: certifi>=2017.4.17 in d:\\programlar\\anaconda3\\envs\\pythonproject\\lib\\site-packages (from requests>=2.19.0->pooch>=1.6.0->rembg) (2022.12.7)\n",
      "Requirement already satisfied: urllib3<1.27,>=1.21.1 in d:\\programlar\\anaconda3\\envs\\pythonproject\\lib\\site-packages (from requests>=2.19.0->pooch>=1.6.0->rembg) (1.26.14)\n",
      "Requirement already satisfied: imageio>=2.4.1 in d:\\programlar\\anaconda3\\envs\\pythonproject\\lib\\site-packages (from scikit-image>=0.19.3->rembg) (2.24.0)\n",
      "Requirement already satisfied: networkx>=2.2 in d:\\programlar\\anaconda3\\envs\\pythonproject\\lib\\site-packages (from scikit-image>=0.19.3->rembg) (3.0)\n",
      "Requirement already satisfied: tifffile>=2019.7.26 in d:\\programlar\\anaconda3\\envs\\pythonproject\\lib\\site-packages (from scikit-image>=0.19.3->rembg) (2022.10.10)\n",
      "Collecting h11>=0.8\n",
      "  Using cached h11-0.14.0-py3-none-any.whl (58 kB)\n",
      "Requirement already satisfied: humanfriendly>=9.1 in c:\\users\\ahmet\\appdata\\roaming\\python\\python38\\site-packages (from coloredlogs->onnxruntime>=1.13.1->rembg) (10.0)\n",
      "Requirement already satisfied: pyreadline3 in c:\\users\\ahmet\\appdata\\roaming\\python\\python38\\site-packages (from humanfriendly>=9.1->coloredlogs->onnxruntime>=1.13.1->rembg) (3.4.1)\n",
      "Requirement already satisfied: zipp>=0.5 in d:\\programlar\\anaconda3\\envs\\pythonproject\\lib\\site-packages (from importlib-metadata->numba!=0.49.0->pymatting>=1.1.8->rembg) (3.11.0)\n",
      "Requirement already satisfied: mpmath>=0.19 in c:\\users\\ahmet\\appdata\\roaming\\python\\python38\\site-packages (from sympy->onnxruntime>=1.13.1->rembg) (1.3.0)\n",
      "Installing collected packages: multidict, llvmlite, frozenlist, yarl, starlette, pydantic, numba, h11, click, async-timeout, aiosignal, watchdog, uvicorn, python-multipart, pymatting, pooch, opencv-python-headless, imagehash, filetype, fastapi, asyncer, aiohttp, rembg\n",
      "  Attempting uninstall: click\n",
      "    Found existing installation: click 8.0.4\n",
      "    Uninstalling click-8.0.4:\n",
      "      Successfully uninstalled click-8.0.4\n",
      "  Attempting uninstall: watchdog\n",
      "    Found existing installation: watchdog 2.1.6\n",
      "    Uninstalling watchdog-2.1.6:\n",
      "      Successfully uninstalled watchdog-2.1.6\n",
      "Successfully installed aiohttp-3.8.4 aiosignal-1.3.1 async-timeout-4.0.2 asyncer-0.0.2 click-8.1.3 fastapi-0.95.1 filetype-1.2.0 frozenlist-1.3.3 h11-0.14.0 imagehash-4.3.1 llvmlite-0.39.1 multidict-6.0.4 numba-0.56.4 opencv-python-headless-4.7.0.72 pooch-1.7.0 pydantic-1.10.7 pymatting-1.1.8 python-multipart-0.0.6 rembg-2.0.32 starlette-0.26.1 uvicorn-0.21.1 watchdog-3.0.0 yarl-1.8.2\n"
     ]
    }
   ],
   "source": [
    "!pip install rembg"
   ]
  },
  {
   "cell_type": "code",
   "execution_count": 10,
   "id": "63d293cc",
   "metadata": {},
   "outputs": [],
   "source": [
    "input_path = 'images/3.png'\n",
    "output_path = 'images/out3.png'\n",
    "\n",
    "input = Image.open(input_path)\n",
    "output = remove(input)\n",
    "output.save(output_path)"
   ]
  },
  {
   "cell_type": "code",
   "execution_count": 11,
   "id": "7f263fcd",
   "metadata": {},
   "outputs": [],
   "source": [
    "input_path = 'images/4.png'\n",
    "output_path = 'images/out4.png'\n",
    "\n",
    "input = Image.open(input_path)\n",
    "output = remove(input)\n",
    "output.save(output_path)"
   ]
  },
  {
   "cell_type": "code",
   "execution_count": 12,
   "id": "e9c84150",
   "metadata": {},
   "outputs": [],
   "source": [
    "input_path = 'images/5.png'\n",
    "output_path = 'images/out5.png'\n",
    "\n",
    "input = Image.open(input_path)\n",
    "output = remove(input)\n",
    "output.save(output_path)"
   ]
  },
  {
   "cell_type": "code",
   "execution_count": 13,
   "id": "f6438485",
   "metadata": {},
   "outputs": [],
   "source": [
    "input_path = 'images/6.png'\n",
    "output_path = 'images/out6.png'\n",
    "\n",
    "input = Image.open(input_path)\n",
    "output = remove(input)\n",
    "output.save(output_path)"
   ]
  },
  {
   "cell_type": "code",
   "execution_count": null,
   "id": "131db850",
   "metadata": {},
   "outputs": [],
   "source": []
  }
 ],
 "metadata": {
  "kernelspec": {
   "display_name": "Python 3 (ipykernel)",
   "language": "python",
   "name": "python3"
  },
  "language_info": {
   "codemirror_mode": {
    "name": "ipython",
    "version": 3
   },
   "file_extension": ".py",
   "mimetype": "text/x-python",
   "name": "python",
   "nbconvert_exporter": "python",
   "pygments_lexer": "ipython3",
   "version": "3.8.13"
  }
 },
 "nbformat": 4,
 "nbformat_minor": 5
}
